{
  "nbformat": 4,
  "nbformat_minor": 0,
  "metadata": {
    "colab": {
      "name": "Assignments1.ipynb",
      "provenance": [],
      "collapsed_sections": [],
      "authorship_tag": "ABX9TyNdXrbXlb6EiCDkzG8iEN7F",
      "include_colab_link": true
    },
    "kernelspec": {
      "name": "python3",
      "display_name": "Python 3"
    }
  },
  "cells": [
    {
      "cell_type": "markdown",
      "metadata": {
        "id": "view-in-github",
        "colab_type": "text"
      },
      "source": [
        "<a href=\"https://colab.research.google.com/github/Rishabh-Kumar-Verma/Basic_Compiler_c-/blob/master/Assignments1.ipynb\" target=\"_parent\"><img src=\"https://colab.research.google.com/assets/colab-badge.svg\" alt=\"Open In Colab\"/></a>"
      ]
    },
    {
      "cell_type": "code",
      "metadata": {
        "id": "4ZgKuCU_qZ8T",
        "colab_type": "code",
        "colab": {}
      },
      "source": [
        "# Question 1:\n",
        "lst=input('Enter Contains of List separated by (,) :').split(',')\n",
        "lst=set(lst)\n",
        "lst=list(lst)\n",
        "print('List after removing similar items: {0} '.format(lst))"
      ],
      "execution_count": 0,
      "outputs": []
    },
    {
      "cell_type": "markdown",
      "metadata": {
        "id": "MSRXL1XpqYuI",
        "colab_type": "text"
      },
      "source": [
        ""
      ]
    },
    {
      "cell_type": "code",
      "metadata": {
        "id": "7XjjgpJjtvdN",
        "colab_type": "code",
        "colab": {}
      },
      "source": [
        "# Question 2:\n",
        "store=(1,2,3,4,5,6,7)\n",
        "print(len(store))\n",
        "print(sum(store))\n",
        "print('Largest: {0}, Smallest: {1}'.format(max(store), min(store)))"
      ],
      "execution_count": 0,
      "outputs": []
    },
    {
      "cell_type": "code",
      "metadata": {
        "id": "ypq2LM8kubra",
        "colab_type": "code",
        "colab": {}
      },
      "source": [
        "# Question 3:\n",
        "n=int(input(\"Enter a number: \"))\n",
        "i=int(input(\"Enter ith bit to ON: \"))\n",
        "mask= (1 << i)\n",
        "result= n | mask\n",
        "print(result)"
      ],
      "execution_count": 0,
      "outputs": []
    },
    {
      "cell_type": "code",
      "metadata": {
        "id": "c3WknlqTv4uP",
        "colab_type": "code",
        "colab": {}
      },
      "source": [
        "# Question 4:\n",
        "n=int(input('Enter a number to check: '))\n",
        "result=n & 1 #first bit is 0 if even else 1\n",
        "print(result)"
      ],
      "execution_count": 0,
      "outputs": []
    },
    {
      "cell_type": "code",
      "metadata": {
        "id": "lZrwtErByoVO",
        "colab_type": "code",
        "colab": {}
      },
      "source": [
        "# Question 5:\n",
        "A=[1,3,4,23,5]\n",
        "B=[0,23,14,5,3,45,9,6,5,7]\n",
        "C=sorted(A+B)\n",
        "print(C)"
      ],
      "execution_count": 0,
      "outputs": []
    },
    {
      "cell_type": "code",
      "metadata": {
        "id": "DAbajn_4y7ie",
        "colab_type": "code",
        "colab": {
          "base_uri": "https://localhost:8080/",
          "height": 216
        },
        "outputId": "91fbb773-7158-4805-fd4d-6d7d02ec5f85"
      },
      "source": [
        "# Question 6:\n",
        "#{'names':marks}\n",
        "\n",
        "student={'Vinay':67,'Atul':70,'Rishabh':82,'Yash':63,'Raman':88}"
      ],
      "execution_count": 97,
      "outputs": [
        {
          "output_type": "error",
          "ename": "TypeError",
          "evalue": "ignored",
          "traceback": [
            "\u001b[0;31m---------------------------------------------------------------------------\u001b[0m",
            "\u001b[0;31mTypeError\u001b[0m                                 Traceback (most recent call last)",
            "\u001b[0;32m<ipython-input-97-a750ee86a53b>\u001b[0m in \u001b[0;36m<module>\u001b[0;34m()\u001b[0m\n\u001b[1;32m      3\u001b[0m \u001b[0;34m\u001b[0m\u001b[0m\n\u001b[1;32m      4\u001b[0m \u001b[0mstudent\u001b[0m\u001b[0;34m=\u001b[0m\u001b[0;34m{\u001b[0m\u001b[0;34m'Vinay'\u001b[0m\u001b[0;34m:\u001b[0m\u001b[0;36m67\u001b[0m\u001b[0;34m,\u001b[0m\u001b[0;34m'Atul'\u001b[0m\u001b[0;34m:\u001b[0m\u001b[0;36m70\u001b[0m\u001b[0;34m,\u001b[0m\u001b[0;34m'Rishabh'\u001b[0m\u001b[0;34m:\u001b[0m\u001b[0;36m82\u001b[0m\u001b[0;34m,\u001b[0m\u001b[0;34m'Yash'\u001b[0m\u001b[0;34m:\u001b[0m\u001b[0;36m63\u001b[0m\u001b[0;34m,\u001b[0m\u001b[0;34m'Raman'\u001b[0m\u001b[0;34m:\u001b[0m\u001b[0;36m88\u001b[0m\u001b[0;34m}\u001b[0m\u001b[0;34m\u001b[0m\u001b[0;34m\u001b[0m\u001b[0m\n\u001b[0;32m----> 5\u001b[0;31m \u001b[0;34m{\u001b[0m\u001b[0mstudent\u001b[0m\u001b[0;34m.\u001b[0m\u001b[0mvalues\u001b[0m\u001b[0;34m(\u001b[0m\u001b[0;34m)\u001b[0m\u001b[0;34m[\u001b[0m\u001b[0;36m1\u001b[0m\u001b[0;34m]\u001b[0m\u001b[0;34m:\u001b[0m\u001b[0mstudent\u001b[0m\u001b[0;34m.\u001b[0m\u001b[0mkeys\u001b[0m\u001b[0;34m(\u001b[0m\u001b[0;34m)\u001b[0m\u001b[0;34m[\u001b[0m\u001b[0;36m1\u001b[0m\u001b[0;34m]\u001b[0m\u001b[0;34m}\u001b[0m\u001b[0;34m\u001b[0m\u001b[0;34m\u001b[0m\u001b[0m\n\u001b[0m",
            "\u001b[0;31mTypeError\u001b[0m: 'dict_values' object does not support indexing"
          ]
        }
      ]
    }
  ]
}